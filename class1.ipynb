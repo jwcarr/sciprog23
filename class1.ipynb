{
 "cells": [
  {
   "cell_type": "markdown",
   "id": "c35b6b0e",
   "metadata": {},
   "source": [
    "# Scientific Programming: A Crash Course\n",
    "\n",
    "## Class 1 – Fundamentals\n",
    "\n",
    "The goal of this first class is to get everyone familar with the core building blocks of programming: numbers, strings, operators, conditional statements, and looping structures. You may have learned some of these concepts before; even so, try to work through the notebook step-by-step – there's probably at least a few things that you didn't already know.\n",
    "\n",
    "By the end of this first class, you should be able to code some simple algorithms! However, you will also need to learn some meta-skills along the way. For example, it may take you some time to get Python set up correctly on your computer, and you will need to get familiar with Jupyter notebooks. It's also worth learning some of the keyboard shortcuts to make life easier.\n",
    "\n",
    "Before running some code, **you should always try to predict the outcome first**. In other words, don't just run the code and look at the result; instead, read the code, try to predict what will happen, and *then* run the code. This will give you a much better sense of what stuff you understand and what stuff you don't understand. You should also try changing the code to see what happens when you run it again. Does it do what you expected?\n",
    "\n",
    "If you have any problems or questions, please feel free to get my attention and I'll come help. But also: Talk to the people around you because they are probably having the same problems!\n",
    "\n",
    "If you don't manage to finish this notebook by the end of the class, don't worry, that's okay, there are a lot of new concepts to learn and not very much time. However, do try to continue working through the material at home."
   ]
  },
  {
   "cell_type": "markdown",
   "id": "a35ca8ce",
   "metadata": {},
   "source": [
    "## Math and Variables\n",
    "At the most basic level, a programming language is like a fancy calculator:"
   ]
  },
  {
   "cell_type": "code",
   "execution_count": null,
   "id": "77db6ba9",
   "metadata": {},
   "outputs": [],
   "source": [
    "1+1"
   ]
  },
  {
   "cell_type": "code",
   "execution_count": null,
   "id": "2bbf8b3b",
   "metadata": {},
   "outputs": [],
   "source": [
    "2*2"
   ]
  },
  {
   "cell_type": "code",
   "execution_count": null,
   "id": "67ff95cb",
   "metadata": {},
   "outputs": [],
   "source": [
    "1+2*2"
   ]
  },
  {
   "cell_type": "markdown",
   "id": "15bb4750",
   "metadata": {},
   "source": [
    "Like in mathematics, **operators** (e.g., `+` `-` `*` `/`) are always performed in a particular order. For example, multiplication happens before addition. Use **parentheses** if you need to override the basic **order of operations**:"
   ]
  },
  {
   "cell_type": "code",
   "execution_count": null,
   "id": "4992e4c3",
   "metadata": {},
   "outputs": [],
   "source": [
    "(1+2)*2"
   ]
  },
  {
   "cell_type": "markdown",
   "id": "8d0166a4",
   "metadata": {},
   "source": [
    "The result of a calulation can be stored in a **variable**:"
   ]
  },
  {
   "cell_type": "code",
   "execution_count": null,
   "id": "e4303b5b",
   "metadata": {},
   "outputs": [],
   "source": [
    "x = (1 + 2) * 2"
   ]
  },
  {
   "cell_type": "markdown",
   "id": "14e30d2d",
   "metadata": {},
   "source": [
    "Note that, when you run the above cell, it doesn't produce any output. Instead, the result of the calculation **was assigned to** the variable `x`. It's important to understand that the equals sign (`=`) is not trying to imply that `x` has the same value as `(1 + 2) * 2`; rather, the calculation on the right is performed and then the result is assigned to (stored in) a variable called `x` on the left. We can check that it worked correctly by **printing** the value of `x`:"
   ]
  },
  {
   "cell_type": "code",
   "execution_count": null,
   "id": "f3d1ffec",
   "metadata": {},
   "outputs": [],
   "source": [
    "print(x)"
   ]
  },
  {
   "cell_type": "markdown",
   "id": "e3c458e3",
   "metadata": {},
   "source": [
    "You can name variables whatever you like, and it is a good idea to use **descriptive variable names** to make your code more **readable**:"
   ]
  },
  {
   "cell_type": "code",
   "execution_count": null,
   "id": "381cfeeb",
   "metadata": {},
   "outputs": [],
   "source": [
    "seconds_in_minute = 60\n",
    "seconds_in_hour = seconds_in_minute * 60\n",
    "seconds_in_day = seconds_in_hour * 24\n",
    "seconds_in_week = seconds_in_day * 7\n",
    "print(seconds_in_week)"
   ]
  },
  {
   "cell_type": "markdown",
   "id": "8d591656",
   "metadata": {},
   "source": [
    "Although it may seem annoying to type long descriptive variable names, you will thank yourself in the long run because you will be able to understand your code more easily when you look back at it. Also, don't forget that you can use autocomplete by pressing the TAB key; not only is this faster, but it also helps you avoid typos.\n",
    "\n",
    "In Python, like other languages, there are some restrictions on variable names. A variable name cannot start with a number (e.g. `1variable`) and a variable name cannot contain spaces or punctuation (except for the underscore `_`). There are also certain keywords that have a special meaning in Python, so they cannot be used as variable names (e.g. `if`, `for`, `while`, `in`). Variable names can include most alphabetical characters, including non-Latin characters. For example, sometimes I like to use Greek letters as variable names if I'm doing something mathy:"
   ]
  },
  {
   "cell_type": "code",
   "execution_count": null,
   "id": "5c730ef0",
   "metadata": {},
   "outputs": [],
   "source": [
    "α = 10\n",
    "β = 100\n",
    "print(α * β)"
   ]
  },
  {
   "cell_type": "markdown",
   "id": "3243dd35",
   "metadata": {},
   "source": [
    "## Data Types\n",
    "\n",
    "So far, we've only used one particular data type, the **integer** (``int``). Integers are whole numbers, like ``1``, ``117``, or ``-99``. However, there are many other data types and it is important to understand how they work and when they should be used. In Python, the most important data types are **strings** (``str``), **floating points** (``float``), **Booleans** (``bool``), **lists** (``list``), and **dictionaries** (``dict``). In other languages, these data types sometimes have different names. For example, lists are sometimes called \"arrays\" or \"vectors\" and dictionaries are sometimes called \"objects\" or \"named arrays\".\n",
    "\n",
    "### Floats\n",
    "\n",
    "Floating point numbers (floats) are a special type of number that can have decimal expansions. For example, `100.5`, `3.14159`, or `-0.0001`. In some programming languages, it is important to choose the right type of number (i.e. integers or floats) depending on what you want to do. In Python, it often doesn't matter – the choice between integers (e.g. `1`) and floats (e.g. `1.0`) is usually just an implementation detail that you don't need to worry about. For example, if I calculate `1` (an integer) divided by `3` (an integer), the result is automatically **cast as** (converted to) a float:"
   ]
  },
  {
   "cell_type": "code",
   "execution_count": null,
   "id": "26cb58a5",
   "metadata": {},
   "outputs": [],
   "source": [
    "1 / 3"
   ]
  },
  {
   "cell_type": "markdown",
   "id": "eaaf5a2f",
   "metadata": {},
   "source": [
    "As, you can see, we get the same result if we use floating point numbers instead:"
   ]
  },
  {
   "cell_type": "code",
   "execution_count": null,
   "id": "d5a09883",
   "metadata": {},
   "outputs": [],
   "source": [
    "1.0 / 3.0"
   ]
  },
  {
   "cell_type": "markdown",
   "id": "5166e84f",
   "metadata": {},
   "source": [
    "However, if you do want to explicity cast ints as floats or floats as ints, you can use the `int()` and `float()` functions:"
   ]
  },
  {
   "cell_type": "code",
   "execution_count": null,
   "id": "a47ecb4d",
   "metadata": {},
   "outputs": [],
   "source": [
    "float(4)"
   ]
  },
  {
   "cell_type": "code",
   "execution_count": null,
   "id": "448bdc29",
   "metadata": {},
   "outputs": [],
   "source": [
    "int(3.14159)"
   ]
  },
  {
   "cell_type": "markdown",
   "id": "5cc55ebd",
   "metadata": {},
   "source": [
    "Notice above that if you cast a float as an int, you simply lose the decimal part of the number. The conversion does not round to the nearest whole number; converting to an int always rounds down, never up. For example:"
   ]
  },
  {
   "cell_type": "code",
   "execution_count": null,
   "id": "43d3f98c",
   "metadata": {},
   "outputs": [],
   "source": [
    "int(3.999)"
   ]
  },
  {
   "cell_type": "markdown",
   "id": "9e9b09de",
   "metadata": {},
   "source": [
    "### Strings\n",
    "\n",
    "But programming is not just a fancy calculator. We can do *much* more exciting stuff than just playing around with numbers! We can also work with pieces of text, which are called strings (i.e. a string of characters). To create a string, you place the text inside single or double quotation marks (`'` or `\"`). In Python there is no distinction between single and double quotation marks, but, of course, you must start and end the string with the same type. For example:"
   ]
  },
  {
   "cell_type": "code",
   "execution_count": null,
   "id": "c89370a8",
   "metadata": {},
   "outputs": [],
   "source": [
    "my_name = 'Jon'\n",
    "print(my_name)\n",
    "my_surname = \"Carr\"\n",
    "print(my_surname)"
   ]
  },
  {
   "cell_type": "markdown",
   "id": "0369329a",
   "metadata": {},
   "source": [
    "Unlike variable names, there are no restrictions on what characters can appear in a string. Any unicode character, even emoji, is totally fine:"
   ]
  },
  {
   "cell_type": "code",
   "execution_count": null,
   "id": "12e62afe",
   "metadata": {},
   "outputs": [],
   "source": [
    "question = 'What did the 🦊 say?'\n",
    "print(question)"
   ]
  },
  {
   "cell_type": "markdown",
   "id": "bc2e93e9",
   "metadata": {},
   "source": [
    "As with numbers, there are various operations we can perform with strings. For example, we can add two strings together (i.e. **concatenate** the strings):"
   ]
  },
  {
   "cell_type": "code",
   "execution_count": null,
   "id": "79162013",
   "metadata": {},
   "outputs": [],
   "source": [
    "print(my_name + my_surname)"
   ]
  },
  {
   "cell_type": "markdown",
   "id": "178252b8",
   "metadata": {},
   "source": [
    "You can also use the multiplication operator (`*`) to repeat a string a certain number of times:"
   ]
  },
  {
   "cell_type": "code",
   "execution_count": null,
   "id": "3ba791e0",
   "metadata": {},
   "outputs": [],
   "source": [
    "print(my_name * 10)"
   ]
  },
  {
   "cell_type": "markdown",
   "id": "b43926b8",
   "metadata": {},
   "source": [
    "You need to be careful to use the right data type depending what you want to do. For example, what do you think will happen here?"
   ]
  },
  {
   "cell_type": "code",
   "execution_count": null,
   "id": "a7285941",
   "metadata": {},
   "outputs": [],
   "source": [
    "x = '10'\n",
    "y = 20\n",
    "print(x * y)"
   ]
  },
  {
   "cell_type": "markdown",
   "id": "40357c8e",
   "metadata": {},
   "source": [
    "If you actually wanted to calculate 10 × 20, you would first need to explicitly cast `x` as the appropriate type (an integer):"
   ]
  },
  {
   "cell_type": "code",
   "execution_count": null,
   "id": "75ed51a1",
   "metadata": {},
   "outputs": [],
   "source": [
    "print(int(x) * y)"
   ]
  },
  {
   "cell_type": "markdown",
   "id": "025439f8",
   "metadata": {},
   "source": [
    "Sometimes mixing certain data types will result in an error. For example, look at what happens if we try to do a string + an integer:"
   ]
  },
  {
   "cell_type": "code",
   "execution_count": null,
   "id": "2a3e632a",
   "metadata": {},
   "outputs": [],
   "source": [
    "x = 'Catch-'\n",
    "y = 22\n",
    "print(x + y)"
   ]
  },
  {
   "cell_type": "markdown",
   "id": "52299faa",
   "metadata": {},
   "source": [
    "We get a `TypeError`. This is a very common error and you will see it very frequently. If you see a `TypeError`, Python is telling you that it doesn't know how to perform the operation because the data type or combination of data types is unexpected. In this case, Python does not know how to add a string to an integer; this operation is not defined in the language. Instead, you probably want to explicitly cast the integer as a string:"
   ]
  },
  {
   "cell_type": "code",
   "execution_count": null,
   "id": "d2acd5dd",
   "metadata": {},
   "outputs": [],
   "source": [
    "x = 'Catch-'\n",
    "y = 22\n",
    "print(x + str(y))"
   ]
  },
  {
   "cell_type": "markdown",
   "id": "a669b17e",
   "metadata": {},
   "source": [
    "A very common thing we want to do is combine strings together to construct new strings. One way to do this is to use a special kind of string called an f-string (or formatted string). They are called f-strings because to create them you place the letter `f` before the opening quotation mark (see below). When you use an f-string, you can use braces (`{` and `}`) to insert other variables inside the string:"
   ]
  },
  {
   "cell_type": "code",
   "execution_count": null,
   "id": "ed32ae4a",
   "metadata": {},
   "outputs": [],
   "source": [
    "my_name = 'Jon'\n",
    "message = f'Ciao, {my_name}! Come va?'\n",
    "print(message)"
   ]
  },
  {
   "cell_type": "markdown",
   "id": "4a0bc63f",
   "metadata": {},
   "source": [
    "### Booleans\n",
    "\n",
    "Despite the weird name, Booleans are the simplest type of data. A Boolean is a simple yes-no, on-off, 1-0, true-false variable. The main reason to use a Boolean is if you need to represent whether something is true or false. In Python, these two possible values are represented by `True` and `False` (note the capital letter at the start). For example, we might need a variable to represent whether a student answered a question correctly in a test:"
   ]
  },
  {
   "cell_type": "code",
   "execution_count": null,
   "id": "8fd6042c",
   "metadata": {},
   "outputs": [],
   "source": [
    "expected_answer = 'A'\n",
    "given_answer = 'B'\n",
    "correct = expected_answer == given_answer\n",
    "print(correct)"
   ]
  },
  {
   "cell_type": "markdown",
   "id": "b415cb5e",
   "metadata": {},
   "source": [
    "Here, `correct` is a Boolean variable; it is either `True` or `False`. Also, note the difference here between a single `=`, which means assignment, and double `==`, which checks equality. In this case, the `==` operator checks whether `expected_answer` and `given_answer` are the same; if they match, the expression `expected_answer == given_answer` will evaluate as `True`; if they mismatch, the expression will evaluate as `False`. Either way, the result will be assigned to the variable `correct`."
   ]
  },
  {
   "cell_type": "markdown",
   "id": "dcc7fd56",
   "metadata": {},
   "source": [
    "### Lists\n",
    "\n",
    "When working with data, we often don't have a single number or a single string or a single Boolean; we often have many numbers, strings, or Booleans. Rather than give each one its own variable name, it is often very useful to store such data in a list. For example, you might want to store a list of people's names, or a list of dates, or a list of scores. In Python, lists are created using square brackets (`[` and `]`) and the comma (`,`) is used to separate the items of the list. Here, for example, we will create a list of colors. The variable `colors` is a list, and that list contains five strings:"
   ]
  },
  {
   "cell_type": "code",
   "execution_count": null,
   "id": "4e158298",
   "metadata": {},
   "outputs": [],
   "source": [
    "colors = ['blue', 'red', 'green', 'yellow', 'black']\n",
    "print(colors)"
   ]
  },
  {
   "cell_type": "markdown",
   "id": "811c0408",
   "metadata": {},
   "source": [
    "If you need to find out how many items are in a list, you can use the `len()` function (which is short for length):"
   ]
  },
  {
   "cell_type": "code",
   "execution_count": null,
   "id": "a82f2d18",
   "metadata": {},
   "outputs": [],
   "source": [
    "print(len(colors))"
   ]
  },
  {
   "cell_type": "markdown",
   "id": "acadd483",
   "metadata": {},
   "source": [
    "You can also extract a particular item from the list by specifying its **index**, again using brackets:"
   ]
  },
  {
   "cell_type": "code",
   "execution_count": null,
   "id": "faf0a253",
   "metadata": {},
   "outputs": [],
   "source": [
    "print( colors[4] )"
   ]
  },
  {
   "cell_type": "markdown",
   "id": "121b91de",
   "metadata": {},
   "source": [
    "Here we are extracting the 4th item from the list of colors. Do you notice anything weird here? Try experimenting with the index. How would you access the first item in the list (i.e. `blue`)?\n",
    "\n",
    "In Python, like many other programming languages, counting starts from 0; counting does not start from 1. Thus, if you want to index the *n*th item from a list, you need to use the index *n*-1. This can often seem very annoying and inconvenient, but eventually you will get used to it. (To make things even more confusing, other languages, like R, start counting from 1).\n",
    "\n",
    "A more advanced type of indexing is called **slicing**. Slices allow you to extract a range of items from a list and create a new list with just these extracted items:"
   ]
  },
  {
   "cell_type": "code",
   "execution_count": null,
   "id": "d82031e6",
   "metadata": {},
   "outputs": [],
   "source": [
    "print( colors[1:3] )"
   ]
  },
  {
   "cell_type": "markdown",
   "id": "5c60b031",
   "metadata": {},
   "source": [
    "Do you notice anything weird here? Is this what you expected to happen?\n",
    "\n",
    "In Python, like many (but not all) programming languages, a range of numbers is specified in the inclusive:exclusive format. This means that the number before the colon (`:`) is included in the range and the number after the colon is *not* included in the range. Thus, `colors[1:3]` means: Extract item 1 (i.e. the second item – remember, counting is from zero) up-to-but-not-including item 3. Double check that you understand this and try playing around with the slice indices. The two key things to remember are: counting is from zero and ranges are inclusive:exclusive."
   ]
  },
  {
   "cell_type": "markdown",
   "id": "5fba006d",
   "metadata": {},
   "source": [
    "So far, we've just seen a list of strings. But lists can contain any kind of data, or even a mix of different data types. For example:"
   ]
  },
  {
   "cell_type": "code",
   "execution_count": null,
   "id": "5fc6a617",
   "metadata": {},
   "outputs": [],
   "source": [
    "birth_years = [1963, 1964, 1987, 1989, 1991]\n",
    "fractions_of_one = [0.0, 0.25, 0.5, 0.75, 1.0]\n",
    "street_names = ['via Carducci', 'via Bonomea', 'viale XX Settembre']\n",
    "mixed_up_list = [1, 'Ciao!', 3.14159, True]"
   ]
  },
  {
   "cell_type": "markdown",
   "id": "f921b5b4",
   "metadata": {},
   "source": [
    "In fact, a list can even contain other lists:"
   ]
  },
  {
   "cell_type": "code",
   "execution_count": null,
   "id": "d1982591",
   "metadata": {},
   "outputs": [],
   "source": [
    "family_birth_years = [  ['father', 1963], ['mother', 1964]  ]\n",
    "print( family_birth_years[0] )\n",
    "print( family_birth_years[0][1] )"
   ]
  },
  {
   "cell_type": "markdown",
   "id": "108fad4b",
   "metadata": {},
   "source": [
    "The concept of embedding lists inside lists is super important, and allows you to create complex hierarchical data structures. Make sure you understand how to index items from a list and how to index items from a list within a list. Try experimenting further to create lists within lists within lists."
   ]
  },
  {
   "cell_type": "markdown",
   "id": "190d9a91",
   "metadata": {},
   "source": [
    "Note that list indices must be integers – they cannot be floats:"
   ]
  },
  {
   "cell_type": "code",
   "execution_count": null,
   "id": "52058d94",
   "metadata": {},
   "outputs": [],
   "source": [
    "colors = ['blue', 'red', 'green', 'yellow', 'black']\n",
    "print( colors[2] )"
   ]
  },
  {
   "cell_type": "code",
   "execution_count": null,
   "id": "f2cb9671",
   "metadata": {},
   "outputs": [],
   "source": [
    "print( colors[2.0] )"
   ]
  },
  {
   "cell_type": "markdown",
   "id": "952fb342",
   "metadata": {},
   "source": [
    "Notice here we get another `TypeError`. This is because the index is the wrong type – an index must be of the type `int`, not `float`.\n",
    "\n",
    "As you might expect, you can also index using an integer that is stored in a variable:"
   ]
  },
  {
   "cell_type": "code",
   "execution_count": null,
   "id": "5da0b038",
   "metadata": {},
   "outputs": [],
   "source": [
    "an_index = 2\n",
    "print( colors[an_index] )"
   ]
  },
  {
   "cell_type": "markdown",
   "id": "ad7988ab",
   "metadata": {},
   "source": [
    "### Dictionaries"
   ]
  },
  {
   "cell_type": "markdown",
   "id": "3596b21c",
   "metadata": {},
   "source": [
    "Dictionaries are similar to lists, except the indices are (usually) strings rather than numeric positions. More generally, a dictionary is a collection of **key-value pairs**. Each item in the dictionary has a key and a value. This makes it easier to find an item in a list because you can use its key to access the corresponding value. For example, you could create a dictionary of your family members, and then access the values by specifying the relevant key:"
   ]
  },
  {
   "cell_type": "code",
   "execution_count": null,
   "id": "65d613f3",
   "metadata": {},
   "outputs": [],
   "source": [
    "my_family = {'father':'Davide', 'mother':'Maria', 'sister':'Valentina'}\n",
    "sister_name = my_family[\"sister\"]\n",
    "message = f'My sister is called {sister_name}!'\n",
    "print(message)"
   ]
  },
  {
   "cell_type": "markdown",
   "id": "3bb29e0b",
   "metadata": {},
   "source": [
    "Dictionaries (and lists too) are **mutable**. This means that the items in the list or dictionary can be deleted or modified. For example, if my father changed his name, I could update the dictionary:"
   ]
  },
  {
   "cell_type": "code",
   "execution_count": null,
   "id": "0f0265c6",
   "metadata": {},
   "outputs": [],
   "source": [
    "my_family['father'] = 'Marco'\n",
    "print(my_family)"
   ]
  },
  {
   "cell_type": "markdown",
   "id": "27ea3ed0",
   "metadata": {},
   "source": [
    "Or I could add a new family member:"
   ]
  },
  {
   "cell_type": "code",
   "execution_count": null,
   "id": "a7f2849e",
   "metadata": {},
   "outputs": [],
   "source": [
    "my_family['brother'] = 'Riccardo'\n",
    "print(my_family)"
   ]
  },
  {
   "cell_type": "markdown",
   "id": "79bedcd1",
   "metadata": {},
   "source": [
    "What happens if you have multiple sisters or multiple brothers? How would you modify the dictionary structure to store multiple siblings? (hint: a dictionary can contain lists)."
   ]
  },
  {
   "cell_type": "markdown",
   "id": "a60d5edb",
   "metadata": {},
   "source": [
    "## Control Structure"
   ]
  },
  {
   "cell_type": "markdown",
   "id": "66917675",
   "metadata": {},
   "source": [
    "So far we have simply created bits of data and assigned them to variables, but the true power of programming lies in writing code to manipulate these pieces of data in an automated and consistent way.\n",
    "\n",
    "In programming, **control structure** refers to the order and logic of how the lines of code are executed – the way the program \"flows\". Think of programming like cooking from a recipe. Variables (e.g. strings and numbers) are like ingredients, while the control structure is like the recipe's procedure.\n",
    "\n",
    "The most obvious type of control structure, which we've already been using, is the **\"sequential flow\"**: it might seem very obvious but the lines of code are executed one by one from top to bottom. The lines of code are not, for example, executed randomly or in parallel – that would be chaos!\n",
    "\n",
    "However, in order to implement more complex kinds of logic, we need to dynamically modify the sequential flow of the program. Sometimes we need to repeat a line of code multiple times (the **\"repetitive flow\"** of the program) and sometimes we need to run a line of code only if a certain condition is met (the **\"conditional flow\"** of the program). These two types of control structure are absolutely fundamental to computer science. 95% of programming is figuring out the right control structure to accomplish a particular task. In other words, programming is all about finding the right recipe to combine the ingredients together to produce a particular outcome."
   ]
  },
  {
   "cell_type": "markdown",
   "id": "1f390b11",
   "metadata": {},
   "source": [
    "### Conditional flow: `if` ... `else`\n",
    "\n",
    "In Python, the main type of conditional control structure is the if-statement. The language has three **keywords** that you will use quite regularly: `if`, `elif` (else if), and `else`. `if` and `elif` are always followed by a condition that Python needs to evaluate; if the condition evaluates as `True`, the **block of code** that is indented inside the if-statement will be executed; otherwise the code will be ignored. An `elif` statement is only evaluated if the previous `if`s and `elif`s were `False`. The code inside the `else` statement is only executed if all the `if`s and `elif`s were `False`. Overall, you should find conditional control structure to be very intuitive because it's very similar to natural language."
   ]
  },
  {
   "cell_type": "code",
   "execution_count": null,
   "id": "b01d6a9b",
   "metadata": {},
   "outputs": [],
   "source": [
    "birth_year = 1987\n",
    "\n",
    "if birth_year >= 1901 and birth_year <= 1927:\n",
    "    print('You belong to the greatest generation')\n",
    "elif birth_year >= 1928 and birth_year <= 1945:\n",
    "    print('You belong to the silent generation')\n",
    "elif birth_year >= 1946 and birth_year <= 1964:\n",
    "    print('You are a baby boomer')\n",
    "elif birth_year >= 1965 and birth_year <= 1980:\n",
    "    print('You are gen-x')\n",
    "elif birth_year >= 1981 and birth_year <= 1996:\n",
    "    print('You are a millennial')\n",
    "elif birth_year >= 1997 and birth_year <= 2012:\n",
    "    print('You are gen-z')\n",
    "else:\n",
    "    print('You are gen alpha')"
   ]
  },
  {
   "cell_type": "markdown",
   "id": "fa4ecf9a",
   "metadata": {},
   "source": [
    "What generation are you? Can you see any problems here? What happens if the birth year is 1900? What condition do you need to add to fix this bug?\n",
    "\n",
    "The main mathematical comparison operators are:\n",
    "\n",
    "- `==` equal to\n",
    "- `!=` not equal to\n",
    "- `<` less than\n",
    "- `>` greater than\n",
    "- `>=` greater than or equal to\n",
    "- `<=` less than or equal to\n",
    "\n",
    "As you can see in the code above, these can be combined with logical operators, like `and` and `or`, to create more complex conditions.\n",
    "\n",
    "Another useful operator is `in` which determines if a variable exists in a list, dictionary, or string:"
   ]
  },
  {
   "cell_type": "code",
   "execution_count": null,
   "id": "110c9489",
   "metadata": {},
   "outputs": [],
   "source": [
    "colors = ['blue', 'red', 'green', 'yellow', 'black']\n",
    "\n",
    "my_favorite_color = 'pink'\n",
    "\n",
    "if my_favorite_color in colors:\n",
    "    print('Good, this is a valid color!')\n",
    "else:\n",
    "    print('Your favorite color is invalid!')"
   ]
  },
  {
   "cell_type": "markdown",
   "id": "f1a0393a",
   "metadata": {},
   "source": [
    "If-statements can contain more than one line of code, and also if-statements can be embedded inside other if-statements. To demonstrate, let's play a game! Think of a color and type in the number of letters it contains and its first letter, then run the code."
   ]
  },
  {
   "cell_type": "code",
   "execution_count": null,
   "id": "433a0b5b",
   "metadata": {},
   "outputs": [],
   "source": [
    "# Think of a color...\n",
    "# How many letters does it have?\n",
    "n_letters = 5\n",
    "# And what is the first letter?\n",
    "first_letter = 'g'\n",
    "# Now run the code...\n",
    "\n",
    "\n",
    "\n",
    "guess = \"I don't know!\"\n",
    "\n",
    "if n_letters == 3:\n",
    "    if first_letter == 'r':\n",
    "        guess = 'red'\n",
    "\n",
    "elif n_letters == 4:\n",
    "    if first_letter == 'b':\n",
    "        guess = 'blue'\n",
    "    elif first_letter == 'p':\n",
    "        guess = 'pink'\n",
    "    elif first_letter == 'g':\n",
    "        guess = 'gray'\n",
    "\n",
    "elif n_letters == 5:\n",
    "    if first_letter == 'b':\n",
    "        guess = 'black'\n",
    "    elif first_letter == 'g':\n",
    "        guess = 'green'\n",
    "    elif first_letter == 'w':\n",
    "        guess = 'white'\n",
    "\n",
    "elif n_letters == 6:\n",
    "    if first_letter == 'y':\n",
    "        guess = 'yellow'\n",
    "    elif first_letter == 'o':\n",
    "        guess = 'orange'\n",
    "    elif first_letter == 'p':\n",
    "        guess = 'purple'\n",
    "    \n",
    "print(f'Your secret color is... {guess}')"
   ]
  },
  {
   "cell_type": "markdown",
   "id": "eaa14410",
   "metadata": {},
   "source": [
    "Of couse, if you choose an obscure color like emerald it won't work. What happens instead? Now try reimplementing the above code with Italian color names (note: it's not as simple as just changing the color words to Italian)."
   ]
  },
  {
   "cell_type": "markdown",
   "id": "2f7b2d48",
   "metadata": {},
   "source": [
    "### Repetitive flow: `for` and `while`\n",
    "\n",
    "The second type of control structure is the repetitive flow, also known as **iteration** or **looping**. Iteration allows you to repeat a block of code many times, which is extremely useful because it means you don't need to write the same bit of code over and over again. In Python, like many other languages, there are two types of loop: the **for-loop** and the **while-loop**.\n",
    "\n",
    "#### For-loops\n",
    "\n",
    "For-loops are extremely common – perhaps even more common than if-statements – and they are very useful. In other languages, for-loops can be a bit difficult to read; but, in Python, for-loops are pretty readable and intuitive. The basic syntax of a for-loop looks like this:\n",
    "\n",
    "```python\n",
    "for x in y:\n",
    "    # do something with x\n",
    "```\n",
    "\n",
    "where `x` is called the **iterator variable** and `y` is called the **iterable**. The iterator variable can be named anything you like, but like other variables, it's a good idea to pick a name that is descriptive. The iterable will be some kind of \"container\" object – a data type that has a concept of many values, such as a list, dictionary, or string.\n",
    "\n",
    "Iterable objects\n",
    "\n",
    "- lists (each item in the list)\n",
    "- dictionaries (each key in the dictionary)\n",
    "- strings (each character in the string)\n",
    "\n",
    "Non-iterable objects\n",
    "\n",
    "- integers\n",
    "- floats\n",
    "- booleans\n",
    "\n",
    "Here's a simple for-loop:"
   ]
  },
  {
   "cell_type": "code",
   "execution_count": null,
   "id": "9639bd3d",
   "metadata": {},
   "outputs": [],
   "source": [
    "list_of_colors = ['blue', 'red', 'green', 'yellow', 'black']\n",
    "\n",
    "for each_color in list_of_colors:\n",
    "    print(f'{each_color} is a color')"
   ]
  },
  {
   "cell_type": "markdown",
   "id": "67ac0da3",
   "metadata": {},
   "source": [
    "The key thing to understand is that the block of code indented inside the for-loop (in this case just a single print statement) is run once for every element of the iterable, and the iterator variable is used to temporarily represent each item in the iterable. Compare the following two pieces of code:"
   ]
  },
  {
   "cell_type": "code",
   "execution_count": null,
   "id": "b2b6ef58",
   "metadata": {
    "scrolled": true
   },
   "outputs": [],
   "source": [
    "list_of_colors = ['blue', 'red', 'green', 'yellow', 'black']\n",
    "\n",
    "for each_color in list_of_colors:\n",
    "    print(f'{each_color} is a color')\n",
    "    print('--------')"
   ]
  },
  {
   "cell_type": "code",
   "execution_count": null,
   "id": "f181b089",
   "metadata": {
    "scrolled": false
   },
   "outputs": [],
   "source": [
    "list_of_colors = ['blue', 'red', 'green', 'yellow', 'black']\n",
    "\n",
    "for each_color in list_of_colors:\n",
    "    print(f'{each_color} is a color')\n",
    "print('--------')"
   ]
  },
  {
   "cell_type": "markdown",
   "id": "70aacc01",
   "metadata": {},
   "source": [
    "Do you see the difference? The code that is indented inside the for-loop will be run for every item in the list. The code that is outside the for-loop only runs once. In Python, it is very important to make sure the indentation is correct because, as you see above, indentation can totally change the meaning of the code. (In some other languages, indentation doesn't matter and is only used to make the code easier to read for humans)."
   ]
  },
  {
   "cell_type": "markdown",
   "id": "d38d5bee",
   "metadata": {},
   "source": [
    "Let's try doing something a bit more complex:"
   ]
  },
  {
   "cell_type": "code",
   "execution_count": null,
   "id": "a31ae034",
   "metadata": {},
   "outputs": [],
   "source": [
    "list_of_colors = ['blue', 'red', 'green', 'yellow', 'black']\n",
    "\n",
    "for each_color in list_of_colors:\n",
    "    n_letters = len(each_color)\n",
    "    message = f'The word {each_color} has {n_letters} letters'\n",
    "    print(message)"
   ]
  },
  {
   "cell_type": "markdown",
   "id": "28f72d79",
   "metadata": {},
   "source": [
    "Remember that you are free to choose the variable names. We could also rewrite the code as follows, but note that this is much harder to read and understand:"
   ]
  },
  {
   "cell_type": "code",
   "execution_count": null,
   "id": "d687330e",
   "metadata": {
    "scrolled": true
   },
   "outputs": [],
   "source": [
    "C = ['blue', 'red', 'green', 'yellow', 'black']\n",
    "\n",
    "for c in C:\n",
    "    n = len(c)\n",
    "    m = f'The word {c} has {n} letters'\n",
    "    print(m)"
   ]
  },
  {
   "cell_type": "markdown",
   "id": "bac48d8f",
   "metadata": {},
   "source": [
    "Another very common thing we want to do is iterate over the counting numbers. To do this we use the `range` function:"
   ]
  },
  {
   "cell_type": "code",
   "execution_count": null,
   "id": "860a8fa5",
   "metadata": {},
   "outputs": [],
   "source": [
    "for each_number in range(1, 11):\n",
    "    print(each_number * 2)"
   ]
  },
  {
   "cell_type": "markdown",
   "id": "d98f7a6a",
   "metadata": {},
   "source": [
    "Essentially, the range function generates a list of numbers from x up-to-but-not-including y (remember that, in Python, ranges are inclusive:exclusive). Thus, `range(1, 11)` generates the list `[1, 2, 3, 4, 5, 6, 7, 8, 9, 10]`, so the above code is equivalent to this:"
   ]
  },
  {
   "cell_type": "code",
   "execution_count": null,
   "id": "6fe0bfe7",
   "metadata": {},
   "outputs": [],
   "source": [
    "for each_number in [1, 2, 3, 4, 5, 6, 7, 8, 9, 10]:\n",
    "    print(each_number * 2)"
   ]
  },
  {
   "cell_type": "markdown",
   "id": "1757ae2a",
   "metadata": {},
   "source": [
    "Here is a new version of the color guessing game, but this time using a for-loop and a single if-statement:"
   ]
  },
  {
   "cell_type": "code",
   "execution_count": null,
   "id": "3fbc62ac",
   "metadata": {},
   "outputs": [],
   "source": [
    "# Think of a color...\n",
    "# How many letters does it have?\n",
    "n_letters = 5\n",
    "# And what is the first letter?\n",
    "first_letter = 'w'\n",
    "# Now run the code...\n",
    "\n",
    "\n",
    "colors = ['red', 'blue', 'pink', 'gray', 'black', 'green', 'white', 'yellow', 'orange', 'purple']\n",
    "\n",
    "guess = \"I don't know!\"\n",
    "\n",
    "for color in colors:\n",
    "    if len(color) == n_letters and color[0] == first_letter:\n",
    "        guess = color\n",
    "\n",
    "print(f'Your secret color is... {guess}')"
   ]
  },
  {
   "cell_type": "markdown",
   "id": "d9938bf8",
   "metadata": {},
   "source": [
    "First, notice how this code is MUCH shorter than our previous implementation of the color game above. Wow! So much simpler, right!? Notice how we can write the program in a much neater and more compact way by using the for-loop instead of loads of nested `if`s and `elif`s. Make sure you understand exactly how this code works, and then try rewriting the code with Italian color names. What happens if you include both *giallo* and *grigio* in the list? Can you think of some ways to fix this problem?"
   ]
  },
  {
   "cell_type": "markdown",
   "id": "20e27bfd",
   "metadata": {},
   "source": [
    "#### While-loops\n",
    "\n",
    "The second type of loop is the while-loop. While-loops are relatively rare, so, if you are unsure about which loop you need, you probably want a for-loop. While-loops are typically useful if you don't have an iterable to iterate over; instead, you want to keep repeating a block of code until a particular condition is eventually met (in some ways, then, a while-loop is similar to an if-statement). One problem with this is that, if you don't think carefully about the logic of the code, it's easy to get stuck in an infinite loop because maybe the condition will never be met, so the loop will keep repeating infinitely.\n",
    "\n",
    "Let's say we want to find the first 100 numbers that are divisible by both three and seven. For example, maybe you're trying to figure out how many stimuli you need and, for some reason, the number of stimuli needs to be divisible by three and seven. Before writing the code, we don't have anything to iterate over – we don't know how many numbers we will need to search to find 100 of these special numbers, so a while-loop seems to be appropriate.\n",
    "\n",
    "We start by checking if 1 is divisible by three and seven; then we check 2; then 3; and so on... Every time we find a number that is divisible by both three and seven, we **append** that number to a list. On each iteration of the while-loop, we check to see if the list contains less than 100 items; if it does, we keep searching. Once the list contains 100 numbers, the condition of the while-loop is no longer met, so the while-loop exits."
   ]
  },
  {
   "cell_type": "code",
   "execution_count": null,
   "id": "a7c63a6d",
   "metadata": {
    "scrolled": true
   },
   "outputs": [],
   "source": [
    "numbers_divisible_by_3_and_7 = []\n",
    "number_to_check = 1\n",
    "\n",
    "while len(numbers_divisible_by_3_and_7) < 100:\n",
    "    if number_to_check % 3 == 0 and number_to_check % 7 == 0:\n",
    "        numbers_divisible_by_3_and_7.append(number_to_check)\n",
    "    number_to_check += 1\n",
    "\n",
    "print(numbers_divisible_by_3_and_7)"
   ]
  },
  {
   "cell_type": "markdown",
   "id": "376c6fa9",
   "metadata": {},
   "source": [
    "Aside from the while-loop, there are three new concepts introduced in this code.\n",
    "\n",
    "1. `%` This is the modulo operator – the remainder after division. For example 10 % 3 is 1 because 3 fits into 10 three times with 1 left over. Here we are checking to see if the remainder is equal to 0 which implies that the numbers can be divided perfectly.\n",
    "\n",
    "2. `.append()` We will see more of this kind of code in the next class, but for now this allows you to add (append) a number on to the end of a list. This allows us to gradually build up a list of numbers that meet our criteria.\n",
    "\n",
    "3. `+=` This is the increment operator. It takes the current value of a variable and increases it by a certain amount. In this case, on every iteration of the while-loop, we increment `current_number` by one so that we can evaluate the next number.\n",
    "\n",
    "Make sure you understand exactly how this code works. If you find it hard to understand, try working through the process step-by-step on a piece of paper. Make sure you can answer the following questions:\n",
    "\n",
    "1. In the first line, why is there a set of empty brackets?\n",
    "\n",
    "2. How many times does the while-loop run?\n",
    "\n",
    "3. Why is `current_number += 1` not inside the if-statement? (warning: putting this line inside the if-statement will result in an infinite loop! Why?)\n",
    "\n",
    "4. What happens if you change `and` to `or` in the if-statement? How does this change the resulting numbers?\n",
    "\n",
    "5. Can you modify the code to find numbers that are also divisible by five?"
   ]
  }
 ],
 "metadata": {
  "kernelspec": {
   "display_name": "Python 3 (ipykernel)",
   "language": "python",
   "name": "python3"
  },
  "language_info": {
   "codemirror_mode": {
    "name": "ipython",
    "version": 3
   },
   "file_extension": ".py",
   "mimetype": "text/x-python",
   "name": "python",
   "nbconvert_exporter": "python",
   "pygments_lexer": "ipython3",
   "version": "3.9.7"
  }
 },
 "nbformat": 4,
 "nbformat_minor": 5
}
