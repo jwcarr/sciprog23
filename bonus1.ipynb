{
 "cells": [
  {
   "cell_type": "markdown",
   "id": "c35b6b0e",
   "metadata": {},
   "source": [
    "# Scientific Programming: A Crash Course\n",
    "\n",
    "## Bonus Class 1 – Object-Oriented Programming\n",
    "\n",
    "At the end of Class 2, we briefly encountered the idea of objects and classes. In this bonus class, I will flesh out this concept and show you how to define your own objects.\n",
    "\n",
    "Python is often described as an object-oriented language. In fact, Python is a multi-paradigm language – it supports the procedural, functional, and object-oriented styles of programming. Nevertheless, Python certainly leans more towards the object-oriented style, and indeed much of the language is actually implemented in the form of objects, so it is quite useful to have a basic understanding of OOP, even if you don't really intend to use the language that way. If you'd like to understand how OOP compares to the other major programming paradigms, check out this video on YouTube: [Four Programming Paradigms In 40 Minutes](https://www.youtube.com/watch?v=cgVVZMfLjEI).\n",
    "\n",
    "## Everything's an Object\n",
    "\n",
    "As I mentioned previously, we've actually been working with objects in Python right from the get-go, but instead of using the term \"objects\", we've been using the term \"data types\". In Python, data types (like ints and strings) are implemented as objects, so these two terms are somewhat interchangeable. Importantly, when I write some code like this:"
   ]
  },
  {
   "cell_type": "code",
   "execution_count": null,
   "id": "be556b41",
   "metadata": {},
   "outputs": [],
   "source": [
    "color = 'verde'"
   ]
  },
  {
   "cell_type": "markdown",
   "id": "bdf91e73",
   "metadata": {},
   "source": [
    "then technically what I am doing is creating a `str` object (a string object) and assigning it to the variable `color`. To verify this, I can use the `type()` function to check what kind of object I just created:"
   ]
  },
  {
   "cell_type": "code",
   "execution_count": null,
   "id": "9f4e65e0",
   "metadata": {},
   "outputs": [],
   "source": [
    "print(type(color))"
   ]
  },
  {
   "cell_type": "markdown",
   "id": "d0a609c3",
   "metadata": {},
   "source": [
    "As you can see, the object assigned to the variable `color` is of the type `str`, or, more specifically, I created an object of the **class** `str`. Moreover, many other things in Python are also implemented as objects – not just the core data types. For example, look what happens if I import a module and check its type:"
   ]
  },
  {
   "cell_type": "code",
   "execution_count": null,
   "id": "0e4836a9",
   "metadata": {},
   "outputs": [],
   "source": [
    "import math\n",
    "\n",
    "print(type(math))"
   ]
  },
  {
   "cell_type": "markdown",
   "id": "f1ea32b6",
   "metadata": {},
   "source": [
    "So, modules are objects – they are instances of the `module` class. Likewise, functions are objects of the class `function`:"
   ]
  },
  {
   "cell_type": "code",
   "execution_count": null,
   "id": "60e42635",
   "metadata": {},
   "outputs": [],
   "source": [
    "def one_plus_one():\n",
    "    return 1 + 1\n",
    "\n",
    "print(type(one_plus_one))"
   ]
  },
  {
   "cell_type": "markdown",
   "id": "a4e3a614",
   "metadata": {},
   "source": [
    "## Defining Classes\n",
    "\n",
    "So what is a class anyway? A **class** is a blueprint which describes objects – it describes what properties the object has and what the object can do. Another way to express this is that an object is a particular **instance** of a **class**, and therefore the object will have certain **attributes** and **methods** as defined by the class.\n",
    "\n",
    "Think of it like this: when you look around you, you see individual people – Jon, Davide, Vale – and these individuals (objects) are instances of the class \"Person\"; they all have arms and legs and eyes (**attributes**), and they are able to laugh and speak and walk (**methods**). Even though each person is unique and separate, they have common features and abilities that can be described in a single blueprint.\n",
    "\n",
    "With this metaphor in mind, let's jump right in, and implement a `Person` class:"
   ]
  },
  {
   "cell_type": "code",
   "execution_count": null,
   "id": "9eb88aa3",
   "metadata": {},
   "outputs": [],
   "source": [
    "class Person:\n",
    "    \n",
    "    def __init__(self, name, age):\n",
    "        self.name = name\n",
    "        self.age = age\n",
    "        \n",
    "    def say_name(self):\n",
    "        print(f'My name is {self.name}')\n",
    "        \n",
    "    def say_age(self):\n",
    "        print(f'I am {self.age} years old')"
   ]
  },
  {
   "cell_type": "markdown",
   "id": "79dda425",
   "metadata": {},
   "source": [
    "Before we start using this class, let's look at the new syntax here:\n",
    "\n",
    "1. The `class` keyword is used to define a class. It is followed by the name of the class and a colon (`:`). Like variables and functions, you can give your class any name you want, but, by convention, we usually capitalize the first letter of class names – `Person`, not `person` – to make them more distinctive.\n",
    "\n",
    "2. Indented within the class there are three functions. In fact, we call these **methods**. Methods are basically the same as regular functions, except they are defined within a class. Just like functions, methods can also have return statements and take optional arguments.\n",
    "\n",
    "3. The `__init__()` method is a special method that is used to **initialize** (create) an instance of the class. Special methods begin and end with a double underscore (`__`), which is pronounced \"dunder\". We will see more of these special methods soon. Most classes will at least have an `__init__()` method.\n",
    "\n",
    "4. The initializer method creates and store two **attributes**, the person's name and age. An attribute is basically just a variable, but it's a variable within a class. We will explore how this works soon (this relates to the mysterious word `self` that pops up in several places in the code).\n",
    "\n",
    "5. And finally, the class has two other regular methods, `say_name()` and `say_age()`.\n",
    "\n",
    "To reiterate, up until now we have been working with variables and functions, but in the context of classes, variables and functions are referred to as attributes and methods. But these are basically the same thing – so don't let the new vocabulary confuse you. A lot of the details are the same, we're just moving up to a new level of abstraction.\n",
    "\n",
    "So, we've defined what it means to be a `Person` in our little world, but now let's actually create some `Person` objects:"
   ]
  },
  {
   "cell_type": "code",
   "execution_count": null,
   "id": "f7938f00",
   "metadata": {},
   "outputs": [],
   "source": [
    "j = Person('Jon', 35)\n",
    "d = Person('Davide', 45)"
   ]
  },
  {
   "cell_type": "markdown",
   "id": "487c25fd",
   "metadata": {},
   "source": [
    "Here I created two `Person` objects and assigned them to the variables `j` and `d`. An important thing to understand here is that the arguments I passed in (e.g. `Jon` and `35`) are automatically passed to the `__init__()` method during the initialization of the object. Typically, the initializer might do various types of validation or initiation of the object, but in our very simple case, the `__init__()` method just stores the passed-in name and age as attributes. If this is a bit unclear, don't worry... hopefully it should start to become more clear as we actually do stuff with the objects.\n",
    "\n",
    "So, what can we do with these objects? Well, the `Person` class implements two methods: `say_name()` and `say_age()`, so let's try them out:"
   ]
  },
  {
   "cell_type": "code",
   "execution_count": null,
   "id": "509ccc96",
   "metadata": {},
   "outputs": [],
   "source": [
    "j.say_age()"
   ]
  },
  {
   "cell_type": "code",
   "execution_count": null,
   "id": "739aa7da",
   "metadata": {},
   "outputs": [],
   "source": [
    "d.say_name()"
   ]
  },
  {
   "cell_type": "markdown",
   "id": "77fe3fc1",
   "metadata": {},
   "source": [
    "Calling a method is just like calling the list or string methods that we've used previously, like `list.append()` and `str.upper()`. Indeed, it's exactly the same thing because the list and string data types are just objects defined by classes, just like our `Person` objects are defined by the `Person` class. As such, we can manipulate `Person` objects, just as we can manipulate any other object. For example, we can place the `Person` objects in a list and iterate over them:"
   ]
  },
  {
   "cell_type": "code",
   "execution_count": null,
   "id": "5aec1529",
   "metadata": {},
   "outputs": [],
   "source": [
    "some_people = [ Person('Jon', 35) , Person('Davide', 45) ]\n",
    "\n",
    "for each_person in some_people:\n",
    "    each_person.say_name()\n",
    "    each_person.say_age()\n",
    "    print('-----')"
   ]
  },
  {
   "cell_type": "markdown",
   "id": "9b8840e4",
   "metadata": {},
   "source": [
    "We can also pass a `Person` object into a function, just like you can with any other object:"
   ]
  },
  {
   "cell_type": "code",
   "execution_count": null,
   "id": "2c513f61",
   "metadata": {},
   "outputs": [],
   "source": [
    "def say_name_ten_times(p):\n",
    "    for _ in range(10):\n",
    "        p.say_name()\n",
    "        \n",
    "j = Person('Jon', 35)\n",
    "say_name_ten_times(j)"
   ]
  },
  {
   "cell_type": "markdown",
   "id": "bba7c37e",
   "metadata": {},
   "source": [
    "Here I created a `Person` object and assigned it to the variable `j`. Then I passed that variable into the `say_name_ten_times()` function, which takes a single argument `p` (thus, within the scope of the function, the variable name `p` refers to the `Person` object we just created). Finally, the function calls the object's `say_name()` method ten times. There's quite a lot of (potentially) confusing vocabulary here, so make sure you understand what's going on step-by-step.\n",
    "\n",
    "## Operator Overloading\n",
    "\n",
    "So far, this all seems to be a lot of complexity for no good reason. But hopefully this is where things start to get more interesting. Recall that when we use the plus operator (`+`) to add two integers together, we get a new integer that is the sum of the two integers (as you would expect):"
   ]
  },
  {
   "cell_type": "code",
   "execution_count": null,
   "id": "233fe483",
   "metadata": {},
   "outputs": [],
   "source": [
    "2 + 3"
   ]
  },
  {
   "cell_type": "markdown",
   "id": "902d7b3a",
   "metadata": {},
   "source": [
    "When we use the same operator to add two strings together, we get the concatenation of the two strings."
   ]
  },
  {
   "cell_type": "code",
   "execution_count": null,
   "id": "686ad2d9",
   "metadata": {},
   "outputs": [],
   "source": [
    "'hello' + 'world'"
   ]
  },
  {
   "cell_type": "markdown",
   "id": "a3444e00",
   "metadata": {},
   "source": [
    "So what happens when we add two people together? Let's try it:"
   ]
  },
  {
   "cell_type": "code",
   "execution_count": null,
   "id": "73ada7ec",
   "metadata": {},
   "outputs": [],
   "source": [
    "j = Person('Jon', 35)\n",
    "d = Person('Davide', 45)\n",
    "\n",
    "j + d"
   ]
  },
  {
   "cell_type": "markdown",
   "id": "5165b4fd",
   "metadata": {},
   "source": [
    "Ah, we get a `TypeError`. Python does not know how to add two `Person` objects together. This operation is not defined by the `Person` class. So let's recreate the `Person` class, but this time we will define the special `__add__()` method, so that it combines the two people together in an interesting way."
   ]
  },
  {
   "cell_type": "code",
   "execution_count": null,
   "id": "1fc8e65a",
   "metadata": {},
   "outputs": [],
   "source": [
    "class Person:\n",
    "    \n",
    "    def __init__(self, name, age):\n",
    "        self.name = name\n",
    "        self.age = age\n",
    "        \n",
    "    def __add__(self, other):\n",
    "        combined_name = self.name[:2] + other.name[-2:]\n",
    "        combined_age = self.age + other.age\n",
    "        return Person(combined_name, combined_age)\n",
    "        \n",
    "    def say_name(self):\n",
    "        print(f'My name is {self.name}')\n",
    "        \n",
    "    def say_age(self):\n",
    "        print(f'I am {self.age} years old')\n",
    "\n",
    "j = Person('Jon', 35)\n",
    "d = Person('Davide', 45)\n",
    "\n",
    "chimera = j + d\n",
    "\n",
    "chimera.say_name()\n",
    "chimera.say_age()"
   ]
  },
  {
   "cell_type": "markdown",
   "id": "e9efd6fa",
   "metadata": {},
   "source": [
    "As you can see, when you add two `Person` objects together, a new `Person` object is created, whose name is combination of the two original names and whose age is the sum of the two original ages. Neat! This is known as **operator overloading**. You can redefine how all the basic operators work for a given object or combination of objects. As another example, let's define what it means for two `Person` objects to be equal (`==`) using the `__eq__()` special method:"
   ]
  },
  {
   "cell_type": "code",
   "execution_count": null,
   "id": "c30ce4bf",
   "metadata": {},
   "outputs": [],
   "source": [
    "class Person:\n",
    "    \n",
    "    def __init__(self, name, age):\n",
    "        self.name = name\n",
    "        self.age = age\n",
    "        \n",
    "    def __add__(self, other):\n",
    "        combined_name = self.name[:2] + other.name[-2:]\n",
    "        combined_age = self.age + other.age\n",
    "        return Person(combined_name, combined_age)\n",
    "    \n",
    "    def __eq__(self, other):\n",
    "        return self.which_generation() == other.which_generation()\n",
    "        \n",
    "    def say_name(self):\n",
    "        print(f'My name is {self.name}')\n",
    "        \n",
    "    def say_age(self):\n",
    "        print(f'I am {self.age} years old')\n",
    "        \n",
    "    def which_generation(self):\n",
    "        birth_year = 2023 - self.age\n",
    "        if birth_year >= 1901 and birth_year <= 1927:\n",
    "            return 'greatest_gen'\n",
    "        elif birth_year >= 1928 and birth_year <= 1945:\n",
    "            return 'silent_gen'\n",
    "        elif birth_year >= 1946 and birth_year <= 1964:\n",
    "            return 'boomer'\n",
    "        elif birth_year >= 1965 and birth_year <= 1980:\n",
    "            return 'gen_x'\n",
    "        elif birth_year >= 1981 and birth_year <= 1996:\n",
    "            return 'millennial'\n",
    "        elif birth_year >= 1997 and birth_year <= 2012:\n",
    "            return 'gen_z'\n",
    "\n",
    "j = Person('Jon', 35)\n",
    "d = Person('Davide', 45)\n",
    "\n",
    "print(j == d)"
   ]
  },
  {
   "cell_type": "markdown",
   "id": "1d541245",
   "metadata": {},
   "source": [
    "Here I added a new method, `which_generation()`, that determines which generation a person belongs to based on their age, and then I defined the equal-to operator (`==`) so that it considers two `Person` objects equal if they belong to the same generation. Thus, Jon and Davide are not equal, but if you change Davide's age to 40, they will be considered equal (both millennials).\n",
    "\n",
    "Finally, what exactly is this `self` thing that keeps popping up everywhere? Essentially, `self` is a variable that allows the class to reference itself (or rather, it points to a specific instance of the class). Thus, when you need to refer to an object's own attributes (e.g. `name` or `age`) or one of the object's own methods (e.g. `say_name()` or `which_generation()`), it needs to be preceded by `self.` within the context of the class definition. You also need to remember to add `self` as the first argument to every method (even special methods). The `self` stuff is a little confusing to be honest, but the syntax works like this because of the particular way objects are implemented in Python. Basically, you just have to memorize the syntax and accept it! (If you're curious, technically, when you call an object's method, the object itself is passed into that method as an invisible first argument, which allows the method to access the object's own unique attributes. It's all a bit weird, but basically you can just conceptualize it like this: within the context of the class definition `self` allows you to reference the object's attributes and methods).\n",
    "\n",
    "## Inheritance\n",
    "\n",
    "A class can inherit the attributes and methods of another class. This is typically useful when you are dealing with some kind of subcategories. For example, let's say we want to have objects representing different kinds of scientist, physicists and biologists for example. Physicists and biologists are types of people, so they can do all the same things that people do, but more. Here's an example:"
   ]
  },
  {
   "cell_type": "code",
   "execution_count": null,
   "id": "d2bbced0",
   "metadata": {},
   "outputs": [],
   "source": [
    "class Person:\n",
    "    \n",
    "    def __init__(self, name, age):\n",
    "        self.name = name\n",
    "        self.age = age\n",
    "        \n",
    "    def say_name(self):\n",
    "        print(f'My name is {self.name}')\n",
    "        \n",
    "    def say_age(self):\n",
    "        print(f'I am {self.age} years old')\n",
    "\n",
    "\n",
    "class Physicist(Person):\n",
    "\n",
    "    def say_something_smart(self):\n",
    "        print('Energy equals mass times the speed of light squared')\n",
    "\n",
    "\n",
    "class Biologist(Person):\n",
    "\n",
    "    def say_something_smart(self):\n",
    "        print('Nothing in biology makes sense, except in the light of evolution')\n",
    "\n",
    "\n",
    "j = Biologist('Jon', 35)\n",
    "d = Physicist('Davide', 45)\n",
    "\n",
    "j.say_name()\n",
    "j.say_age()\n",
    "j.say_something_smart()\n",
    "\n",
    "d.say_name()\n",
    "d.say_age()\n",
    "d.say_something_smart()"
   ]
  },
  {
   "cell_type": "markdown",
   "id": "6603b0ed",
   "metadata": {},
   "source": [
    "Here I created a `Biologist` object, `j`, and a `Physicist` object, `d`, and asked them both to say something smart. `j` said something biological and `d` said something physical. But importantly, note that both of them are also able to say their names and ages... because they are also `People` objects. The `Biologist` and `Physicist` classes both inherit from the `Person` class, so they have all the same features as that parent class. This is achieved by placing the name of the parent class in parentheses directly after declaring the child class name. The nice thing about this is that we can avoid lots of awkward code duplication; instead of `Biologist` and `Physicist` having their own identical `say_name()` methods, they can both just inherit this method from the parent `Person` class.\n",
    "\n",
    "To get some practice building this stuff for yourself, use the code block below to create your own set of classes with inheritance and operator overloading. For example, you might create an `Animal` parent class with child classes like `Dog` and `Cat`."
   ]
  },
  {
   "cell_type": "code",
   "execution_count": null,
   "id": "66d3e72f",
   "metadata": {},
   "outputs": [],
   "source": []
  },
  {
   "cell_type": "markdown",
   "id": "4b478663",
   "metadata": {},
   "source": [
    "## Iterable Objects\n",
    "\n",
    "In Class 1, I briefly mentioned that some objects are iterable and some are not. `int`s, `float`s, and `bool`s are not iterable – they are just singular pieces of data, whereas `list`s, `str`s, and `dict`s are iterable – they contain multiple pieces of data that can be indexed and iterated over.\n",
    "\n",
    "We can define our own iterable, container objects using the `__iter__()` special method. For example, let's create a `Classroom` object (a container), which holds several students."
   ]
  },
  {
   "cell_type": "code",
   "execution_count": null,
   "id": "51ec6ecf",
   "metadata": {},
   "outputs": [],
   "source": [
    "from random import choice\n",
    "\n",
    "class Classroom:\n",
    "    \n",
    "    def __init__(self):\n",
    "        self.students = []\n",
    "        \n",
    "    def __iter__(self):\n",
    "        for student in self.students:\n",
    "            yield student\n",
    "    \n",
    "    def add_new_student(self, student):\n",
    "        self.students.append(student)\n",
    "\n",
    "    def pick_random_student(self):\n",
    "        return choice(self.students)\n",
    "    \n",
    "    def calculate_average_age(self):\n",
    "        return sum([s.age for s in self.students]) / len(self.students)\n",
    "    \n",
    "\n",
    "# create a new empty classroom\n",
    "cls_rm = Classroom()\n",
    "\n",
    "# add students to the classroom\n",
    "cls_rm.add_new_student( Person('Harry', 14) )\n",
    "cls_rm.add_new_student( Person('Hermione', 15) )\n",
    "cls_rm.add_new_student( Person('Ron', 14) )\n",
    "cls_rm.add_new_student( Person('Draco', 14) )\n",
    "\n",
    "# iterate over the students and ask them their names\n",
    "for each_student in cls_rm:\n",
    "    each_student.say_name()"
   ]
  },
  {
   "cell_type": "markdown",
   "id": "26c8620a",
   "metadata": {},
   "source": [
    "The `Classroom` object also has some other methods. For example, we can pick a student at random and ask them to say their name:"
   ]
  },
  {
   "cell_type": "code",
   "execution_count": null,
   "id": "44794832",
   "metadata": {},
   "outputs": [],
   "source": [
    "rand_student = cls_rm.pick_random_student()\n",
    "rand_student.say_name()"
   ]
  },
  {
   "cell_type": "markdown",
   "id": "7dc26569",
   "metadata": {},
   "source": [
    "Or we can calculate the average age of the students in the classroom:"
   ]
  },
  {
   "cell_type": "code",
   "execution_count": null,
   "id": "f629e791",
   "metadata": {},
   "outputs": [],
   "source": [
    "cls_rm.calculate_average_age()"
   ]
  },
  {
   "cell_type": "markdown",
   "id": "7ebd8ce8",
   "metadata": {},
   "source": [
    "Currently we are using the `Person` class to represent the individual students. Try creating a new `Student` class which has student-specific attributes and methods. For example, include a \"house\" attribute which stores which house a student belongs to (Gryffindor, Hufflepuff, Ravenclaw, and Slytherin). Add a new method to the `Classroom` object which counts how many students are in each house."
   ]
  },
  {
   "cell_type": "code",
   "execution_count": null,
   "id": "7350961a",
   "metadata": {},
   "outputs": [],
   "source": []
  },
  {
   "cell_type": "markdown",
   "id": "e99a0763",
   "metadata": {},
   "source": [
    "Another use for `__iter__()` is to define special sequences that we would like to iterate over. For example, we could create a `TimesTable` object which allows us to iterate over the \"times table\" for a given *n* (e.g. the two times table: 2, 4, 6, 8...):"
   ]
  },
  {
   "cell_type": "code",
   "execution_count": null,
   "id": "a27454ee",
   "metadata": {},
   "outputs": [],
   "source": [
    "class TimesTable:\n",
    "    \n",
    "    def __init__(self, n, stop_at=10):\n",
    "        self.n = n\n",
    "        self.stop_at = stop_at\n",
    "        self.i = 0\n",
    "\n",
    "    def __iter__(self):\n",
    "        while self.i < self.stop_at:\n",
    "            self.i += 1\n",
    "            yield self.i * self.n\n",
    "\n",
    "\n",
    "for each_number in TimesTable(9):\n",
    "    print(each_number)"
   ]
  },
  {
   "cell_type": "markdown",
   "id": "fc8c847c",
   "metadata": {},
   "source": [
    "Since this `TimesTable` object is an iterable, it can be passed into functions that take an iterable as input, the `sum()` function for example:"
   ]
  },
  {
   "cell_type": "code",
   "execution_count": null,
   "id": "85abd9b0",
   "metadata": {},
   "outputs": [],
   "source": [
    "sum(TimesTable(12))"
   ]
  },
  {
   "cell_type": "markdown",
   "id": "f38ae793",
   "metadata": {},
   "source": [
    "## Encapsulated Machines\n",
    "\n",
    "Another way to use classes is for organizing code. We often have a bunch of variables and functions that are related to each other, so sometimes it can make sense to **encapsulate** (enclose, contain) all of that code in a class. For example, returning to the horoscopes example, we could place all the code in a `FortuneTeller` object like this:"
   ]
  },
  {
   "cell_type": "code",
   "execution_count": null,
   "id": "13ee75c3",
   "metadata": {},
   "outputs": [],
   "source": [
    "from random import choice\n",
    "\n",
    "\n",
    "class FortuneTeller:\n",
    "\n",
    "    positive_adjectives = ['funny', 'determined', 'happy', 'stable']\n",
    "    negative_adjectives = ['anxious', 'rambunctious', 'timid', 'chaotic']\n",
    "\n",
    "    prophecies = [\n",
    "        ['Today is perfect for new endeavors. ', 'The tensions of this week will feel heavier today than yesterday. ', 'Today is the day to cherish and embrace others. ', 'Making yourself useful is a main component of a successful day. ', 'Today, exercise caution when crossing the street. ',],\n",
    "        ['Remember that good things come to those who work hard. ', 'Don’t let the circumstances bring you down. ', 'Patience is key, but sometimes a little push can get the job done. ', 'A smile can get you a long way. '],\n",
    "        ['Looking ahead may seem like a waste of time, but it pays off in the end. ', 'Luck favors those who mind the risks and take them. ', 'Today is the day for that thing you always wanted to do. ', 'Luck is on your side today, so seize it! ', 'Things are looking up for you! '],\n",
    "    ]\n",
    "\n",
    "    zodiacs = {'Aries':'♈️', 'Taurus':'♉️', 'Gemini':'♊️', 'Cancer':'♋️', 'Leo':'♌️', 'Virgo':'♍️', 'Libra':'♎️', 'Scorpio':'♏️', 'Sagittarius':'♐️', 'Capricorn':'♑️', 'Aquarius':'♒️', 'Pisces':'♓️'}\n",
    "\n",
    "    def generate_opening_sentence(self, star_sign):\n",
    "        '''\n",
    "        This function writes the initial line of the\n",
    "        horoscope by randomly choosing two adjectives,\n",
    "        a good trait and a bad trait. It also inserts\n",
    "        the relevant zodiac symbol.\n",
    "        '''\n",
    "        symbol = self.zodiacs[star_sign]\n",
    "        positive_trait = choice(self.positive_adjectives)\n",
    "        negative_trait = choice(self.negative_adjectives)\n",
    "        horoscope = f'{symbol} As a {star_sign}, you are naturally {positive_trait}, but you also tend to be {negative_trait}. '\n",
    "        return horoscope\n",
    "\n",
    "    def generate_prophecy(self, star_sign):\n",
    "        '''\n",
    "        This function takes the name of a star sign\n",
    "        and generates a random prophecy by combining\n",
    "        some random sentences together.\n",
    "        '''\n",
    "        horoscope = ''\n",
    "        for sentences in self.prophecies:\n",
    "            horoscope += choice(sentences)\n",
    "        return horoscope\n",
    "\n",
    "    def generate_horoscope(self, star_sign):\n",
    "        '''\n",
    "        This function takes the name of a star sign\n",
    "        and generates a horoscope. It first creates\n",
    "        the opening sentence and then the prophecy.\n",
    "        '''\n",
    "        horoscope = self.generate_opening_sentence(star_sign)\n",
    "        horoscope += self.generate_prophecy(star_sign)\n",
    "        return horoscope"
   ]
  },
  {
   "cell_type": "markdown",
   "id": "4ec673a8",
   "metadata": {},
   "source": [
    "To use the code, you just create an instance of the `FortuneTeller` class and then ask it to produce a horoscope for a given star sign:"
   ]
  },
  {
   "cell_type": "code",
   "execution_count": null,
   "id": "2214915d",
   "metadata": {},
   "outputs": [],
   "source": [
    "ft = FortuneTeller()\n",
    "ft.generate_horoscope('Sagittarius')"
   ]
  },
  {
   "cell_type": "markdown",
   "id": "6dd5dd20",
   "metadata": {},
   "source": [
    "These \"encapsulated machines\" (this is not a technical term – I just made it up) start to become more useful as your code grows in complexity. They are especially useful when you have several functions that all need to access the same bits of data; rather than passing data from one function to another, which can quickly get pretty messy, all the functions (i.e. the object's methods) can access a shared set of variables (i.e. the object's attributes).\n",
    "\n",
    "This way of using classes follows exactly the same syntax we've seen already, we're just using the class for a different purpose. The `Person` object represented a thing that exists in our world – a natural object – and it made sense to create many `Person` objects to represent different individuals. In the case of our `FortuneTeller`, we don't really need to create lots of different instances; instead, the main reason for using a class was just to organize a bunch of related code together. These two distinct ways of using classes – to define natural objects and to encapsulate machines – are both commonly used in Python.\n",
    "\n",
    "If you still have some time left, try to think of an example in your own research where a class might make sense. Sketch out what attributes and methods the class will have. What special methods might be useful? Would it make sense to use inheritance?"
   ]
  }
 ],
 "metadata": {
  "kernelspec": {
   "display_name": "Python 3 (ipykernel)",
   "language": "python",
   "name": "python3"
  },
  "language_info": {
   "codemirror_mode": {
    "name": "ipython",
    "version": 3
   },
   "file_extension": ".py",
   "mimetype": "text/x-python",
   "name": "python",
   "nbconvert_exporter": "python",
   "pygments_lexer": "ipython3",
   "version": "3.9.7"
  }
 },
 "nbformat": 4,
 "nbformat_minor": 5
}
